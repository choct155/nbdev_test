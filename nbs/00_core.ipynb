{
 "cells": [
  {
   "cell_type": "code",
   "execution_count": 10,
   "metadata": {},
   "outputs": [],
   "source": [
    "# default_exp core"
   ]
  },
  {
   "cell_type": "markdown",
   "metadata": {},
   "source": [
    "# Test nbdev\n",
    "\n",
    "> Just an experiment to better understand the workflow"
   ]
  },
  {
   "cell_type": "code",
   "execution_count": 11,
   "metadata": {},
   "outputs": [],
   "source": [
    "#hide\n",
    "from nbdev.showdoc import *"
   ]
  },
  {
   "cell_type": "code",
   "execution_count": 12,
   "metadata": {},
   "outputs": [],
   "source": [
    "#export\n",
    "def say_hello(to: str) -> str:\n",
    "    \"\"\"\n",
    "    Just a greeting\n",
    "    \"\"\"\n",
    "    return f\"Hello {to}!\""
   ]
  },
  {
   "cell_type": "markdown",
   "metadata": {},
   "source": [
    "This is a straightforward zalutation:"
   ]
  },
  {
   "cell_type": "code",
   "execution_count": 13,
   "metadata": {},
   "outputs": [
    {
     "data": {
      "text/plain": [
       "'Hello Lumi!'"
      ]
     },
     "execution_count": 13,
     "metadata": {},
     "output_type": "execute_result"
    }
   ],
   "source": [
    "say_hello(\"Lumi\")"
   ]
  },
  {
   "cell_type": "code",
   "execution_count": 14,
   "metadata": {},
   "outputs": [],
   "source": [
    "assert say_hello(\"Murphy\") == \"Hello Murphy!\""
   ]
  },
  {
   "cell_type": "code",
   "execution_count": 15,
   "metadata": {},
   "outputs": [
    {
     "data": {
      "text/plain": [
       "<IPython.core.display.SVG object>"
      ]
     },
     "execution_count": 15,
     "metadata": {},
     "output_type": "execute_result"
    }
   ],
   "source": [
    "from IPython.display import SVG, display\n",
    "\n",
    "SVG(url=\"https://en.wikipedia.org/wiki/Function_(mathematics)#/media/File:Function_machine2.svg\")"
   ]
  },
  {
   "cell_type": "markdown",
   "metadata": {},
   "source": [
    "The next function is far more general. The concept of a [fold](https://en.wikipedia.org/wiki/Fold_(higher-order_function)) is very much like [reduce](https://docs.python.org/3/library/functools.html#functools.reduce) in Python, except that it enables crossing of the type barrier. Both fold and reduce take care of traversal of a given collection, but fold (left) takes a function of type `(B, A) -> B` while reduce takes a function of type `(A, A) -> A`. The implication is that Python's reduce can handle the summation of numbers because the result is still a number, but it can't turn a range into a corpus, or a payload from an API call."
   ]
  },
  {
   "cell_type": "code",
   "execution_count": 1,
   "metadata": {},
   "outputs": [],
   "source": [
    "#export\n",
    "from typing import Iterable, TypeVar, Callable\n",
    "\n",
    "\n",
    "A = TypeVar(\"A\")\n",
    "B = TypeVar(\"B\")\n",
    "\n",
    "def fold(collection: Iterable[A], zero: B, f: Callable[[B, A], B]) -> B:\n",
    "    \"\"\"\n",
    "    Fold is a generalization of reduce that crosses the type barrier.\n",
    "    \"\"\"\n",
    "    out: B = zero\n",
    "    for next_elem in collection:\n",
    "        out: B = f(out, next_elem)\n",
    "    return out"
   ]
  },
  {
   "cell_type": "markdown",
   "metadata": {},
   "source": [
    "We can demonstrate by taking by operating on arbitrary types. Let us turn integers into a collection of type `List[Foo]`."
   ]
  },
  {
   "cell_type": "code",
   "execution_count": 3,
   "metadata": {},
   "outputs": [
    {
     "data": {
      "text/plain": [
       "[Foo(in_val=0, even=True),\n",
       " Foo(in_val=1, even=False),\n",
       " Foo(in_val=2, even=True),\n",
       " Foo(in_val=3, even=False),\n",
       " Foo(in_val=4, even=True)]"
      ]
     },
     "execution_count": 3,
     "metadata": {},
     "output_type": "execute_result"
    }
   ],
   "source": [
    "#export \n",
    "from dataclasses import dataclass, field\n",
    "from typing import List, Iterator, Callable\n",
    "\n",
    "\n",
    "@dataclass\n",
    "class Foo:\n",
    "    in_val: int\n",
    "    even: bool = field(default_factory=bool)\n",
    "        \n",
    "    def __post_init__(self) -> None:\n",
    "        self.even = self.in_val % 2 == 0\n",
    "        \n",
    "\n",
    "input_vals: Iterator[int] = range(5)\n",
    "foo_f: Callable[[List[Foo], int], List[Foo]] = lambda out, i: out + [Foo(i)]\n",
    "    \n",
    "fold(input_vals, [], foo_f)"
   ]
  },
  {
   "cell_type": "code",
   "execution_count": 5,
   "metadata": {},
   "outputs": [],
   "source": [
    "assert fold([0], [], foo_f) == [Foo(0, True)]"
   ]
  },
  {
   "cell_type": "code",
   "execution_count": null,
   "metadata": {},
   "outputs": [],
   "source": []
  }
 ],
 "metadata": {
  "kernelspec": {
   "display_name": "Python 3",
   "language": "python",
   "name": "python3"
  },
  "language_info": {
   "codemirror_mode": {
    "name": "ipython",
    "version": 3
   },
   "file_extension": ".py",
   "mimetype": "text/x-python",
   "name": "python",
   "nbconvert_exporter": "python",
   "pygments_lexer": "ipython3",
   "version": "3.8.0"
  }
 },
 "nbformat": 4,
 "nbformat_minor": 4
}
